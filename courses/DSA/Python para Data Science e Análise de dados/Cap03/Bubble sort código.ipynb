{
 "cells": [
  {
   "cell_type": "raw",
   "id": "32f91ccf-bb35-4123-a6a1-67fa7699adcf",
   "metadata": {},
   "source": [
    "Pseudocódigo para fazer o bubble sort \n",
    "\n",
    "Início\n",
    "\n",
    "- Crie um array de alguns números\n",
    "- Veja quantos elementos estão em uma lista com len().\n",
    "\n",
    "- Para cada elemento i em um array do tamanho n:\n",
    "    - Para cada elemento j em um array do tamanho n-1:\n",
    "    \t- Se o elemento x na posição i > elemento y na posição j:\n",
    "    \t\t- A posição i do primeiro elemento vai ser trocada com a de j do segundo.\n",
    "- Exiba a lista ordenada.\n",
    "\n"
   ]
  },
  {
   "cell_type": "code",
   "execution_count": 10,
   "id": "1a423975-96a7-40b9-92f7-633721a9d1bc",
   "metadata": {
    "execution": {
     "iopub.execute_input": "2025-06-11T21:33:17.367429Z",
     "iopub.status.busy": "2025-06-11T21:33:17.367429Z",
     "iopub.status.idle": "2025-06-11T21:33:17.370232Z",
     "shell.execute_reply": "2025-06-11T21:33:17.370232Z",
     "shell.execute_reply.started": "2025-06-11T21:33:17.367429Z"
    }
   },
   "outputs": [],
   "source": [
    "# Lista não ordenada\n",
    "\n",
    "lista = [42, 7, 15, 98, 23, 56]\n",
    "\n",
    "length_lista = len(lista)"
   ]
  },
  {
   "cell_type": "code",
   "execution_count": 82,
   "id": "312493e7-9739-4647-9a76-0e011e53b16f",
   "metadata": {
    "execution": {
     "iopub.execute_input": "2025-06-11T22:00:59.628998Z",
     "iopub.status.busy": "2025-06-11T22:00:59.628471Z",
     "iopub.status.idle": "2025-06-11T22:00:59.632680Z",
     "shell.execute_reply": "2025-06-11T22:00:59.632680Z",
     "shell.execute_reply.started": "2025-06-11T22:00:59.628998Z"
    }
   },
   "outputs": [
    {
     "name": "stdout",
     "output_type": "stream",
     "text": [
      "[7, 15, 23, 42, 56, 98]\n"
     ]
    }
   ],
   "source": [
    "# Ordenando na ordem certa com bubble sort\n",
    "for i in range(length_lista):\n",
    "    for j in range(length_lista-1):\n",
    "        if lista[i] < lista[j]:\n",
    "            lista[i], lista[j] = lista[j], lista[i]\n",
    "print(lista)"
   ]
  }
 ],
 "metadata": {
  "kernelspec": {
   "display_name": "Python 3 (ipykernel)",
   "language": "python",
   "name": "python3"
  },
  "language_info": {
   "codemirror_mode": {
    "name": "ipython",
    "version": 3
   },
   "file_extension": ".py",
   "mimetype": "text/x-python",
   "name": "python",
   "nbconvert_exporter": "python",
   "pygments_lexer": "ipython3",
   "version": "3.12.4"
  }
 },
 "nbformat": 4,
 "nbformat_minor": 5
}
