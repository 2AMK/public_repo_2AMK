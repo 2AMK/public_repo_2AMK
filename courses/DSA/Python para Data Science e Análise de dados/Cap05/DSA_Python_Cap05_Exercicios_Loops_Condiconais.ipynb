{
  "cells": [
    {
      "cell_type": "markdown",
      "metadata": {
        "id": "aeYeMH6hlguu"
      },
      "source": [
        "# <font color='blue'>Data Science Academy</font>\n",
        "\n",
        "## <font color='blue'>Fundamentos de Linguagem Python Para Análise de Dados e Data Science</font>\n",
        "\n",
        "## <font color='blue'>Capítulo 5 - Exercícios de Loops e Condicionais</font>"
      ]
    },
    {
      "cell_type": "code",
      "execution_count": null,
      "metadata": {
        "id": "VgSJOPl8lguz"
      },
      "outputs": [],
      "source": [
        "# Versão da Linguagem Python\n",
        "from platform import python_version\n",
        "print('Versão da Linguagem Python Usada Neste Jupyter Notebook:', python_version())"
      ]
    },
    {
      "cell_type": "markdown",
      "metadata": {
        "id": "yx9bmRxSlgu2"
      },
      "source": [
        "## Exercícios - Loops e Condiconais"
      ]
    },
    {
      "cell_type": "code",
      "execution_count": null,
      "metadata": {
        "id": "Hk3Qoc8Elgu3"
      },
      "outputs": [],
      "source": [
        "# Exercício 1 - Crie uma estrutura que pergunte ao usuário qual o dia da semana. Se o dia for igual a Domingo ou\n",
        "# igual a sábado, imprima na tela \"Hoje é dia de descanso\", caso contrário imprima na tela \"Você precisa trabalhar!\"\n",
        "\n",
        "dia = input('Qual o dia da semana?')\n",
        "if dia == 'Domingo' or dia == 'Sábado':\n",
        "  print('Hoje é o dia de descanso!')\n",
        "else:\n",
        "  print('Você precisa trabalhar!')"
      ]
    },
    {
      "cell_type": "code",
      "execution_count": 4,
      "metadata": {
        "colab": {
          "base_uri": "https://localhost:8080/"
        },
        "id": "n4keGUxNlgu3",
        "outputId": "3fb204c0-ac30-4ebd-f6de-d18d6bd5e15a"
      },
      "outputs": [
        {
          "output_type": "stream",
          "name": "stdout",
          "text": [
            "Morango faz parte da lista\n"
          ]
        }
      ],
      "source": [
        "# Exercício 2 - Crie uma lista de 5 frutas e verifique se a fruta 'Morango' faz parte da lista\n",
        "\n",
        "lista_fruta = ['Maçã', 'Pêra', 'Pessêgo', 'Morango', 'Banana']\n",
        "\n",
        "for fruta in lista_fruta:\n",
        "  if fruta == 'Morango':\n",
        "    print('Morango faz parte da lista')"
      ]
    },
    {
      "cell_type": "code",
      "execution_count": 5,
      "metadata": {
        "colab": {
          "base_uri": "https://localhost:8080/"
        },
        "id": "-ECTPINNlgu4",
        "outputId": "61520b00-fd61-4dab-acc6-c979898bd20d"
      },
      "outputs": [
        {
          "output_type": "stream",
          "name": "stdout",
          "text": [
            "[2, 4, 6, 8]\n"
          ]
        }
      ],
      "source": [
        "# Exercício 3 - Crie uma tupla de 4 elementos, multiplique cada elemento da tupla por 2 e guarde os resultados em uma\n",
        "# lista\n",
        "\n",
        "tupla = (1,2,3,4)\n",
        "lista = []\n",
        "\n",
        "for elemento in tupla:\n",
        "  multiplicação = elemento*2\n",
        "  lista.append(multiplicação)\n",
        "print(lista)\n",
        ""
      ]
    },
    {
      "cell_type": "code",
      "execution_count": 10,
      "metadata": {
        "colab": {
          "base_uri": "https://localhost:8080/"
        },
        "id": "D7h6JgVulgu5",
        "outputId": "83dfacd8-9e86-43d9-8830-c7dacd7b3023"
      },
      "outputs": [
        {
          "output_type": "stream",
          "name": "stdout",
          "text": [
            "100\n",
            "102\n",
            "104\n",
            "106\n",
            "108\n",
            "110\n",
            "112\n",
            "114\n",
            "116\n",
            "118\n",
            "120\n",
            "122\n",
            "124\n",
            "126\n",
            "128\n",
            "130\n",
            "132\n",
            "134\n",
            "136\n",
            "138\n",
            "140\n",
            "142\n",
            "144\n",
            "146\n",
            "148\n",
            "150\n"
          ]
        }
      ],
      "source": [
        "# Exercício 4 - Crie uma sequência de números pares entre 100 e 150 e imprima na tela\n",
        "\n",
        "for i in range(100,151):\n",
        "  if i%2 == 0:\n",
        "    print(i)"
      ]
    },
    {
      "cell_type": "code",
      "execution_count": 13,
      "metadata": {
        "colab": {
          "base_uri": "https://localhost:8080/"
        },
        "id": "Jmoq_sjBlgu6",
        "outputId": "4174998a-49c0-4229-e102-832df379ff9b"
      },
      "outputs": [
        {
          "output_type": "stream",
          "name": "stdout",
          "text": [
            "40\n",
            "39\n",
            "38\n",
            "37\n",
            "36\n"
          ]
        }
      ],
      "source": [
        "# Exercício 5 - Crie uma variável chamada temperatura e atribua o valor 40. Enquanto temperatura for maior que 35,\n",
        "# imprima as temperaturas na tela\n",
        "\n",
        "temperatura = 40\n",
        "\n",
        "while temperatura > 35:\n",
        "  print(temperatura)\n",
        "  temperatura -=1"
      ]
    },
    {
      "cell_type": "code",
      "execution_count": 17,
      "metadata": {
        "colab": {
          "base_uri": "https://localhost:8080/"
        },
        "id": "sAB3c90hlgu7",
        "outputId": "18946b2a-29a6-4052-f985-fd6d6e81f57c"
      },
      "outputs": [
        {
          "output_type": "stream",
          "name": "stdout",
          "text": [
            "1\n",
            "2\n",
            "3\n",
            "4\n",
            "5\n",
            "6\n",
            "7\n",
            "8\n",
            "9\n",
            "10\n",
            "11\n",
            "12\n",
            "13\n",
            "14\n",
            "15\n",
            "16\n",
            "17\n",
            "18\n",
            "19\n",
            "20\n",
            "21\n",
            "22\n",
            "23\n"
          ]
        }
      ],
      "source": [
        "# Exercício 6 - Crie uma variável chamada contador = 0. Enquanto counter for menor que 100, imprima os valores na tela,\n",
        "# mas quando for encontrado o valor 23, interrompa a execução do programa\n",
        "\n",
        "contador = 0\n",
        "\n",
        "while contador < 100:\n",
        "  if contador == 23:\n",
        "   break\n",
        "  contador +=1\n",
        "  print(contador)"
      ]
    },
    {
      "cell_type": "code",
      "execution_count": 19,
      "metadata": {
        "colab": {
          "base_uri": "https://localhost:8080/"
        },
        "id": "2MWCo4OVlgu8",
        "outputId": "9c079f9e-425b-482d-e2f3-db8e0daf29c8"
      },
      "outputs": [
        {
          "output_type": "stream",
          "name": "stdout",
          "text": [
            "[4, 6, 8, 10, 12, 14, 16, 18, 20]\n"
          ]
        }
      ],
      "source": [
        "# Exercício 7 - Crie uma lista vazia e uma variável com valor 4. Enquanto o valor da variável for menor ou igual a 20,\n",
        "# adicione à lista, apenas os valores pares e imprima a lista\n",
        "lista_vazia = []\n",
        "variável = 4\n",
        "\n",
        "while variável <= 20:\n",
        "  if variável % 2 == 0:\n",
        "    lista_vazia.append(variável)\n",
        "  variável +=1\n",
        "print(lista_vazia)"
      ]
    },
    {
      "cell_type": "code",
      "execution_count": 21,
      "metadata": {
        "colab": {
          "base_uri": "https://localhost:8080/"
        },
        "id": "hoa-mPC7lgu9",
        "outputId": "0f322b3a-c2f8-4869-9254-9ae1b7b058ea"
      },
      "outputs": [
        {
          "output_type": "stream",
          "name": "stdout",
          "text": [
            "[5, 7, 9, 11, 13, 15, 17, 19, 21, 23, 25, 27, 29, 31, 33, 35, 37, 39, 41, 43]\n"
          ]
        }
      ],
      "source": [
        "# Exercício 8 - Transforme o resultado desta função range em uma lista: range(5, 45, 2)\n",
        "nums = range(5, 45, 2)\n",
        "print(list(nums))"
      ]
    },
    {
      "cell_type": "code",
      "execution_count": 2,
      "metadata": {
        "colab": {
          "base_uri": "https://localhost:8080/"
        },
        "id": "1eW5Pzrklgu9",
        "outputId": "09196ed6-19d0-4de2-f203-dcf1e11af1a6"
      },
      "outputs": [
        {
          "output_type": "stream",
          "name": "stdout",
          "text": [
            "Qual a temperatura? 34\n",
            "Vista roupas leves.\n"
          ]
        }
      ],
      "source": [
        "# Exercício 9 - Faça a correção dos erros no código abaixo e execute o programa. Dica: são 3 erros.\n",
        "temperatura = float(input('Qual a temperatura? '))\n",
        "if temperatura > 30:\n",
        "  print('Vista roupas leves.')\n",
        "else:\n",
        "  print('Busque seus casacos.')"
      ]
    },
    {
      "cell_type": "code",
      "execution_count": 23,
      "metadata": {
        "colab": {
          "base_uri": "https://localhost:8080/"
        },
        "id": "6-AS5v9tlgu9",
        "outputId": "5c134e77-d616-4b7c-df98-86e2f351c810"
      },
      "outputs": [
        {
          "output_type": "stream",
          "name": "stdout",
          "text": [
            "A letra r aparece 5 vezes na frase\n"
          ]
        }
      ],
      "source": [
        "# Exercício 10 - Faça um programa que conte quantas vezes a letra \"r\" aparece na frase abaixo. Use um placeholder na\n",
        "# sua instrução de impressão\n",
        "\n",
        "# “A gratidão é a virtude das almas nobres. O quão feliz é uma pessoa depende da profundidade de sua gratidão.”\n",
        "\n",
        "frase = \"A gratidão é a virtude das almas nobres. O quão feliz é uma pessoa depende da profundidade de sua gratidão.\"\n",
        "\n",
        "lista_r = []\n",
        "\n",
        "for letra in frase:\n",
        "  if letra == 'r':\n",
        "    lista_r.append(letra)\n",
        "\n",
        "contagem_r = len(lista_r)\n",
        "print('A letra r aparece %r vezes na frase' %(contagem_r))"
      ]
    },
    {
      "cell_type": "markdown",
      "metadata": {
        "id": "f2mMNEoQlgu9"
      },
      "source": [
        "# Fim"
      ]
    },
    {
      "cell_type": "markdown",
      "metadata": {
        "id": "ptxdiPwylgu-"
      },
      "source": [
        "### Obrigado\n",
        "\n",
        "### Visite o Blog da Data Science Academy - <a href=\"http://blog.dsacademy.com.br\">Blog DSA</a>"
      ]
    }
  ],
  "metadata": {
    "kernelspec": {
      "display_name": "Python 3 (ipykernel)",
      "language": "python",
      "name": "python3"
    },
    "language_info": {
      "codemirror_mode": {
        "name": "ipython",
        "version": 3
      },
      "file_extension": ".py",
      "mimetype": "text/x-python",
      "name": "python",
      "nbconvert_exporter": "python",
      "pygments_lexer": "ipython3",
      "version": "3.9.13"
    },
    "colab": {
      "provenance": []
    }
  },
  "nbformat": 4,
  "nbformat_minor": 0
}